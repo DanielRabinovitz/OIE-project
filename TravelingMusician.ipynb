{
 "cells": [
  {
   "cell_type": "code",
   "execution_count": null,
   "metadata": {},
   "outputs": [],
   "source": [
    "import pandas\n",
    "\n",
    "#Data parsing outline:\n",
    "#Make a symmetric matrix where labels are cities\n",
    "#Fill in col by col in blocks of 312\n",
    "    #Each block of 312 items is 32 lines long in the txt (10 in each row with 2 items as spillover)\n",
    "\n",
    "#Need to create cities\n",
    "\n",
    "#iterate over chunks of txt by cities\n",
    "for city in cities:\n",
    "    #iterate over each chunk of 32 lines\n",
    "    for line in city:\n",
    "        for char in line:\n",
    "            if char!=\" \" and char!=\"\\n\":\n",
    "                \n",
    "\n"
   ]
  }
 ],
 "metadata": {
  "language_info": {
   "name": "python"
  },
  "orig_nbformat": 4
 },
 "nbformat": 4,
 "nbformat_minor": 2
}
