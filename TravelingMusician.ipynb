{
 "cells": [
  {
   "cell_type": "code",
   "execution_count": 14,
   "metadata": {},
   "outputs": [],
   "source": [
    "import pandas as pd\n",
    "\n",
    "#Purpose of cell: process data from .txt files\n",
    "\n",
    "#open city files\n",
    "city_names_text = open('../OIE project/Data/USCA312_labels.txt', 'r')\n",
    "city_distances_text = open('../OIE project/Data/USCA312_distances.txt', 'r')\n",
    "\n",
    "#put lines of city_names_Text in a list\n",
    "city_names_list = [line.strip() for line in city_names_text]\n",
    "#cut out the filler text at the beginning of the txt file\n",
    "city_names_list = city_names_list[15:]\n",
    "\n",
    "#put lines of city_names_Text in a list\n",
    "city_dist_list = [line.strip() for line in city_distances_text]\n",
    "#cut out the filler text at the beginning of the txt file\n",
    "city_dist_list = city_dist_list[7:]\n",
    "#split the individual numbers into their own elements, but they're split into sublists by line\n",
    "city_dist_list = [line.split() for line in city_dist_list]\n",
    "#merge all the sublists\n",
    "city_dist_list = [element #return element, append to list\n",
    "                    for sublist in city_dist_list #for each sublist\n",
    "                        for element in sublist] #for each element in each sublist\n",
    "#split the main list back up into chunks for each city\n",
    "city_dist_list = [city_dist_list[city_index*len(city_names_list)\n",
    "                                 :\n",
    "                                 (city_index+1)*len(city_names_list)] #return a range that is a block of 312 cities\n",
    "                        for city_index in range(len(city_names_list))] #for each city in city_names_list\n",
    "\n",
    "#Create the dataframe\n",
    "city_dist_df = pd.DataFrame(city_dist_list, #data is the distances list\n",
    "                            index=city_names_list, #row and column indices are the city list\n",
    "                            columns=city_names_list)\n",
    "\n",
    "#Gurobi does not like dataframes so we are moving to a dict\n",
    "n=city_dist_df.shape[0]\n",
    "city_dist_dict = {(i,j) : int(city_dist_df.iloc[i][j]) for i in range(n) for j in range(n) if i != j}"
   ]
  },
  {
   "cell_type": "code",
   "execution_count": 15,
   "metadata": {},
   "outputs": [],
   "source": [
    "#Cell Purpose: initialize variables and model\n",
    "\n",
    "import gurobipy\n",
    "\n",
    "mpg = 9 #mpg of vehicle\n",
    "tank_cap = 200 #gas tank capacity\n",
    "\n",
    "import gurobipy as gp\n",
    "from gurobipy import GRB\n",
    "\n",
    "# tested with Python 3.7 & Gurobi 9.0.0\n",
    "\n",
    "m = gp.Model()\n",
    "\n",
    "# Variables: is city 'i' adjacent to city 'j' on the tour?\n",
    "vars = m.addVars(city_dist_dict.keys(), obj=city_dist_dict, vtype=GRB.BINARY, name='x')\n",
    "\n",
    "# Symmetric direction: Copy the object\n",
    "for i, j in vars.keys():\n",
    "    vars[j, i] = vars[i, j]  # edge in opposite direction\n",
    "\n",
    "# Constraints: two edges incident to each city\n",
    "cons = m.addConstrs(vars.sum(c, '*') == 2 for c in city_names_list)"
   ]
  },
  {
   "cell_type": "code",
   "execution_count": 16,
   "metadata": {},
   "outputs": [],
   "source": [
    "# Cell Purpose: make subtour constraints (the lazy iterative kind)\n",
    "\n",
    "#subtour killer\n",
    "def subtourelim(model, where):\n",
    "    if where == GRB.Callback.MIPSOL:\n",
    "        # make a list of edges selected in the solution\n",
    "        vals = model.cbGetSolution(model._vars)\n",
    "        selected = gp.tuplelist((i, j) for i, j in model._vars.keys()\n",
    "                             if vals[i, j] > 0.5)\n",
    "        # find the shortest cycle in the selected edge list\n",
    "        tour = subtour(selected)\n",
    "        if len(tour) < len(city_names_list):\n",
    "            # add subtour elimination constr. for every pair of cities in subtour\n",
    "            model.cbLazy(gp.quicksum(model._vars[i, j] for i, j in city_names_list(tour, 2))\n",
    "                         <= len(tour)-1)\n",
    "\n",
    "#find the shortest subtour\n",
    "def subtour(edges):\n",
    "    unvisited = city_names_list[:]\n",
    "    cycle = city_names_list[:] # Dummy - guaranteed to be replaced\n",
    "    while unvisited:  # true if list is non-empty\n",
    "        thiscycle = []\n",
    "        neighbors = unvisited\n",
    "        while neighbors:\n",
    "            current = neighbors[0]\n",
    "            thiscycle.append(current)\n",
    "            unvisited.remove(current)\n",
    "            neighbors = [j for i, j in edges.select(current, '*')\n",
    "                         if j in unvisited]\n",
    "        if len(thiscycle) <= len(cycle):\n",
    "            cycle = thiscycle # New shortest subtour\n",
    "    return cycle"
   ]
  },
  {
   "cell_type": "code",
   "execution_count": 17,
   "metadata": {},
   "outputs": [
    {
     "name": "stdout",
     "output_type": "stream",
     "text": [
      "Set parameter LazyConstraints to value 1\n",
      "Gurobi Optimizer version 9.5.2 build v9.5.2rc0 (win64)\n",
      "Thread count: 14 physical cores, 20 logical processors, using up to 20 threads\n",
      "\n",
      "User-callback calls 3, time in user-callback 0.00 sec\n"
     ]
    },
    {
     "ename": "GurobiError",
     "evalue": "",
     "output_type": "error",
     "traceback": [
      "\u001b[1;31m---------------------------------------------------------------------------\u001b[0m",
      "\u001b[1;31mGurobiError\u001b[0m                               Traceback (most recent call last)",
      "Cell \u001b[1;32mIn [17], line 6\u001b[0m\n\u001b[0;32m      4\u001b[0m m\u001b[38;5;241m.\u001b[39m_vars \u001b[38;5;241m=\u001b[39m \u001b[38;5;28mvars\u001b[39m\n\u001b[0;32m      5\u001b[0m m\u001b[38;5;241m.\u001b[39mParams\u001b[38;5;241m.\u001b[39mlazyConstraints \u001b[38;5;241m=\u001b[39m \u001b[38;5;241m1\u001b[39m\n\u001b[1;32m----> 6\u001b[0m m\u001b[38;5;241m.\u001b[39moptimize(subtourelim)\n\u001b[0;32m      8\u001b[0m \u001b[38;5;66;03m#retrieve solution\u001b[39;00m\n\u001b[0;32m      9\u001b[0m vals \u001b[38;5;241m=\u001b[39m m\u001b[38;5;241m.\u001b[39mgetAttr(\u001b[38;5;124m'\u001b[39m\u001b[38;5;124mx\u001b[39m\u001b[38;5;124m'\u001b[39m, \u001b[38;5;28mvars\u001b[39m)\n",
      "File \u001b[1;32msrc\\gurobipy\\model.pxi:864\u001b[0m, in \u001b[0;36mgurobipy.Model.optimize\u001b[1;34m()\u001b[0m\n",
      "\u001b[1;31mGurobiError\u001b[0m: "
     ]
    }
   ],
   "source": [
    "#Cell purpose: solve and retrieve solution\n",
    "\n",
    "#solve\n",
    "m._vars = vars\n",
    "m.Params.lazyConstraints = 1\n",
    "m.optimize(subtourelim)\n",
    "\n",
    "#retrieve solution\n",
    "vals = m.getAttr('x', vars)\n",
    "selected = gp.tuplelist((i, j) for i, j in vals.keys() if vals[i, j] > 0.5)\n",
    "\n",
    "#check if it worked \n",
    "tour = subtour(selected)\n",
    "assert len(tour) <= len(city_names_list)"
   ]
  },
  {
   "cell_type": "code",
   "execution_count": null,
   "metadata": {},
   "outputs": [],
   "source": [
    "#Cell purpose: preprocess for map\n",
    "city_coordinates_text = open('../OIE project/Data/USCA312_dms.txt', 'r')\n",
    "city_coordinates_list = []"
   ]
  },
  {
   "cell_type": "code",
   "execution_count": null,
   "metadata": {},
   "outputs": [],
   "source": [
    "#Cell purpose: display a map of the solution\n",
    "\n",
    "import folium\n",
    "\n",
    "map = folium.Map(location=[40,-95], zoom_start = 4)\n",
    "\n",
    "points = []\n",
    "for city in tour:\n",
    "  points.append(city_coordinates_list[city])\n",
    "points.append(points[0])\n",
    "\n",
    "folium.PolyLine(points).add_to(map)\n",
    "\n",
    "map"
   ]
  }
 ],
 "metadata": {
  "kernelspec": {
   "display_name": "Python 3.10.7 64-bit (microsoft store)",
   "language": "python",
   "name": "python3"
  },
  "language_info": {
   "codemirror_mode": {
    "name": "ipython",
    "version": 3
   },
   "file_extension": ".py",
   "mimetype": "text/x-python",
   "name": "python",
   "nbconvert_exporter": "python",
   "pygments_lexer": "ipython3",
   "version": "3.10.7"
  },
  "orig_nbformat": 4,
  "vscode": {
   "interpreter": {
    "hash": "9c937976a6a29988b30853b19d6da527723076d1199b55105ded2446f3fcd5f9"
   }
  }
 },
 "nbformat": 4,
 "nbformat_minor": 2
}
