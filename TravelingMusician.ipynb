{
 "cells": [
  {
   "cell_type": "code",
   "execution_count": 1,
   "metadata": {},
   "outputs": [],
   "source": [
    "import pandas as pd\n",
    "\n",
    "#Purpose of cell:\n",
    "#create lists from .txt files\n",
    "\n",
    "#open city files\n",
    "city_names_text = open('../OIE project/Data/USCA312_labels.txt', 'r')\n",
    "city_distances_text = open('../OIE project/Data/USCA312_distances.txt', 'r')\n",
    "\n",
    "#put lines of city_names_Text in a list\n",
    "city_names_list = [line.strip() for line in city_names_text]\n",
    "#cut out the filler text at the beginning of the txt file\n",
    "city_names_list = city_names_list[15:]\n",
    "\n",
    "#put lines of city_names_Text in a list\n",
    "city_dist_list = [line.strip() for line in city_distances_text]\n",
    "#cut out the filler text at the beginning of the txt file\n",
    "city_dist_list = city_dist_list[7:]\n",
    "#split the individual numbers into their own elements, but they're split into sublists by line\n",
    "city_dist_list = [line.split() for line in city_dist_list]\n",
    "#merge all the sublists\n",
    "city_dist_list = [element #return element, append to list\n",
    "                    for sublist in city_dist_list #for each sublist\n",
    "                        for element in sublist] #for each element in each sublist\n",
    "#split the main list back up into chunks for each city\n",
    "city_dist_list = [city_dist_list[city_index*len(city_names_list)\n",
    "                                 :\n",
    "                                 (city_index+1)*len(city_names_list)] #return a range that is a block of 312 cities\n",
    "                        for city_index in range(len(city_names_list))] #for each city in city_names_list\n",
    "\n",
    "#Create the dataframe\n",
    "city_dist_df = pd.DataFrame(city_dist_list, #data is the distances list\n",
    "                            index=city_names_list, #row and column indices are the city list\n",
    "                            columns=city_names_list)"
   ]
  }
 ],
 "metadata": {
  "kernelspec": {
   "display_name": "Python 3.10.7 64-bit (microsoft store)",
   "language": "python",
   "name": "python3"
  },
  "language_info": {
   "codemirror_mode": {
    "name": "ipython",
    "version": 3
   },
   "file_extension": ".py",
   "mimetype": "text/x-python",
   "name": "python",
   "nbconvert_exporter": "python",
   "pygments_lexer": "ipython3",
   "version": "3.10.7"
  },
  "orig_nbformat": 4,
  "vscode": {
   "interpreter": {
    "hash": "9c937976a6a29988b30853b19d6da527723076d1199b55105ded2446f3fcd5f9"
   }
  }
 },
 "nbformat": 4,
 "nbformat_minor": 2
}
